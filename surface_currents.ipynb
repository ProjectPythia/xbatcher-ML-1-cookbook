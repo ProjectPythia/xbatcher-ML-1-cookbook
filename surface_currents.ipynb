{
 "cells": [
  {
   "cell_type": "markdown",
   "id": "9bf4538d-15f7-44de-ab7a-32048746a63b",
   "metadata": {
    "tags": []
   },
   "source": [
    "# xbatcher for Machine Learning Part 1"
   ]
  },
  {
   "cell_type": "markdown",
   "id": "4312093a-0564-4134-8cb5-0e23515709e4",
   "metadata": {
    "tags": []
   },
   "source": [
    "## Introduction\n",
    "\n",
    "Here, we will be covering how to use xbatcher with Keras/Tensorflow convolutional neural network (CNN) models. \n",
    "\n",
    "Prerequisites:\n",
    "\n",
    "| Concepts | Importance | Notes |\n",
    "| --- | --- | --- |\n",
    "| [Xarray](https://foundations.projectpythia.org/core/xarray/xarray-intro.html) | Necessary | |\n",
    "| Keras/Tensorflow | Strongly Recommended | Not strictly needed to understand this tutorial |\n",
    "\n",
    "This notebook replicates the work of [Sinha and Abernathey, 2021](https://www.frontiersin.org/article/10.3389/fmars.2021.672477), where the goal is to use a CNN to learn ocean surface currents (which are usually inferred diagnostically or modelled) from variables that can be observed directly, like sea surface temperature (SST) or wind stress. \n",
    "\n",
    "Can we learn to predict ocean currents with just one snapshot of data?"
   ]
  },
  {
   "cell_type": "markdown",
   "id": "79054b8e-90c1-4ea4-868e-dfc28cfcdbf9",
   "metadata": {
    "tags": []
   },
   "source": [
    "---"
   ]
  },
  {
   "cell_type": "markdown",
   "id": "e4011f51-74bb-4d47-8249-73a613e2af3d",
   "metadata": {
    "tags": []
   },
   "source": [
    "### Imports"
   ]
  },
  {
   "cell_type": "markdown",
   "id": "b7094a43-9c92-4b88-80ac-9a7546e49508",
   "metadata": {},
   "source": [
    "To start, let's import some libraries we'll need. The important libraries here are `numpy`, `xarray`, `xbatcher` and `tensorflow`, while most of the others aren't strictly necessary."
   ]
  },
  {
   "cell_type": "code",
   "execution_count": null,
   "id": "8e48a969-b28e-4fc9-864a-8a402ae82252",
   "metadata": {
    "tags": []
   },
   "outputs": [],
   "source": [
    "import numpy as np\n",
    "import xarray as xr\n",
    "\n",
    "from intake import open_catalog\n",
    "from dataclasses import dataclass\n",
    "from typing import Iterable"
   ]
  },
  {
   "cell_type": "code",
   "execution_count": null,
   "id": "7371c0ae-770b-4e9d-9545-f36e045794db",
   "metadata": {
    "tags": []
   },
   "outputs": [],
   "source": [
    "from matplotlib import pyplot as plt\n",
    "from IPython.display import clear_output"
   ]
  },
  {
   "cell_type": "code",
   "execution_count": null,
   "id": "7edff03e-636b-4c08-85d4-2f25a9507011",
   "metadata": {
    "tags": []
   },
   "outputs": [],
   "source": [
    "import tensorflow as tf"
   ]
  },
  {
   "cell_type": "code",
   "execution_count": null,
   "id": "ac258fca-23fa-4b04-91d5-17e9a7606ff6",
   "metadata": {
    "tags": []
   },
   "outputs": [],
   "source": [
    "import xbatcher as xb"
   ]
  },
  {
   "cell_type": "markdown",
   "id": "e6191414-f0e2-4731-bbf3-e7976e015c44",
   "metadata": {
    "tags": []
   },
   "source": [
    "---"
   ]
  },
  {
   "cell_type": "markdown",
   "id": "38b8b4eb-665f-47f4-ada9-ae6c92c8cd21",
   "metadata": {
    "tags": []
   },
   "source": [
    "### Designing Scenarios\n",
    "\n",
    "We want to experiment with different neural network models by providing different inputs, and perhaps by playing with whether or not we run them through a convolutional layer. There are a lot of possibilities here, and if we approach it haphazardly, we'll end up with a mess of scattered experiments and results mixed in with other code. \n",
    "\n",
    "Instead, we can be more systematic about it. We know we want to define an individual scenario once, and then have it stay constant through the workflow. This way, there will be no complexities later on about whether we're referring to the right dataset, etc. With that in mind, we should use a `dataclass`. We want something minimal here, just enough to store the names of variables we're interested in. \n",
    "\n",
    "What is the structure of each experiment? We want some input variables to be run through a 2D convolutional layer, while some other inputs will be passed through directly to the dense part of the neural network. Both of these can be lists of strings, so we define `conv_var` and `input_var` as `Iterable[str]`.\n",
    "\n",
    "Likewise, we have more than one target, so we define the `target` item as `Iterable[str]` as well. Outside of the `Scenario` dataclass, we define `target` as a list: `['U', 'V']`. Since we're only interested in learning the currents, this won't change.\n",
    "\n",
    "Finally, we need to name each scenario something distinct, so when we create data subsets for training, testing, and prediction, we can recover them later."
   ]
  },
  {
   "cell_type": "code",
   "execution_count": null,
   "id": "f7c7fca5-9d89-4749-9c29-27461aed0d91",
   "metadata": {
    "tags": []
   },
   "outputs": [],
   "source": [
    "@dataclass\n",
    "class Scenario:\n",
    "    conv_var: Iterable[str]\n",
    "    input_var: Iterable[str]\n",
    "    target: Iterable[str]\n",
    "    name: str"
   ]
  },
  {
   "cell_type": "code",
   "execution_count": null,
   "id": "aaad7588-a1c5-42ff-8835-5f677f11937f",
   "metadata": {
    "tags": []
   },
   "outputs": [],
   "source": [
    "target = ['U', 'V']"
   ]
  },
  {
   "cell_type": "code",
   "execution_count": null,
   "id": "5eb48d30-7cfe-4d46-b510-78af260b810f",
   "metadata": {
    "tags": []
   },
   "outputs": [],
   "source": [
    "sc1 = Scenario(['SSH'],             ['TAUX', 'TAUY'], target, name = \"derp\")\n",
    "sc5 = Scenario(['SSH', 'SST'], ['X', 'TAUX', 'TAUY'], target, name = \"herp\")"
   ]
  },
  {
   "cell_type": "markdown",
   "id": "dfd17f20-8e09-43f2-9fbb-298043cd6c9f",
   "metadata": {},
   "source": [
    "### Data and Preprocessing\n",
    "\n",
    "For our dataset, we will be using ocean data from a high-resolution CESM POP model. \n",
    "\n",
    "We have some necessary I/O routines, but they aren't central to our problem, aside from the addtion of the new variables `X`, `Y`, `Z`, `dx` and `dy`, which represent Euclidean positions and distances between grid points.\n",
    "\n",
    "You can have a look in the notebook below if you're curious about it."
   ]
  },
  {
   "cell_type": "code",
   "execution_count": null,
   "id": "dd7dfb91-ca1d-4a4d-85ed-af12c32e8776",
   "metadata": {
    "tags": []
   },
   "outputs": [],
   "source": [
    "%run notebooks/surface_currents_prep.ipynb"
   ]
  },
  {
   "cell_type": "markdown",
   "id": "c198bde4-7683-4f47-ad7d-09cdcf55bdb4",
   "metadata": {
    "tags": []
   },
   "source": [
    "From this notebook, we get a few new functions.\n",
    "\n",
    "  * `prepare_data` takes a scenario, as well as the time slices for training, testing, and prediction we are interested in, and the time slice we'll use for the NaN mask. It adds the new grid variables, and then stores each slice in a new zarr store that we can access later. This speeds up future I/O, which is helpful when modifying the model. Each scenario is stored separately.\n",
    "  * `load_training_data` loads the training data created for the scenario passed to it.\n",
    "  * `load_test_data` loads the testing data created for the scenario passed to it.\n",
    "  * `load_predict_data` loads the prediction input data created for the scenario passed to it.\n",
    "  \n",
    "You can comment out `prepare_data` after you've run it once, it will save time if you rerun the whole notebook again."
   ]
  },
  {
   "cell_type": "code",
   "execution_count": null,
   "id": "cf745763-351f-415f-8909-433d06eb8356",
   "metadata": {
    "tags": []
   },
   "outputs": [],
   "source": [
    "prepare_data(sc5, 200, 1000, 1000, 200)"
   ]
  },
  {
   "cell_type": "markdown",
   "id": "12ef4df4-6381-4f72-9589-26fdf584df67",
   "metadata": {
    "tags": []
   },
   "source": [
    "Next, we'll load our training data and pick out the part we want to train with. \n",
    "\n",
    "NOTE: Coordinates and attributes are dropped for speed, doing this shouldn't be necessary in future (optimized) versions of xarray/xbatcher."
   ]
  },
  {
   "cell_type": "code",
   "execution_count": null,
   "id": "fa848723-93ad-4aac-ae7a-ab26c535d134",
   "metadata": {},
   "outputs": [],
   "source": [
    "ds_training = load_training_data(sc5)\n",
    "ds_training = just_the_data(ds_training)\n",
    "ds_training"
   ]
  },
  {
   "cell_type": "markdown",
   "id": "56b968f8-8da6-4163-b662-0436c82944d7",
   "metadata": {},
   "source": [
    "Looking inside `ds_training`, we see only the variables we would expect from `sc5`. "
   ]
  },
  {
   "cell_type": "code",
   "execution_count": null,
   "id": "3977b1fd-12de-443c-b151-8cbd69e0b19f",
   "metadata": {},
   "outputs": [],
   "source": [
    "ds_training = select_from(ds_training)"
   ]
  },
  {
   "cell_type": "code",
   "execution_count": null,
   "id": "be6bd52c-2b46-4379-8126-a26c33911f27",
   "metadata": {},
   "outputs": [],
   "source": [
    "xr.plot.contourf(ds_training['SST'])"
   ]
  },
  {
   "cell_type": "markdown",
   "id": "8847185d-5969-40cd-a4d1-ec2ff7892f83",
   "metadata": {
    "tags": []
   },
   "source": [
    "## Model Setup\n",
    "\n",
    "We have a model architecuture we're happy with already defined, so for this tutorial, we'll focus on how to use xbatcher to generate training sets for the model. From the notebook below, we recieve:\n",
    "  * `get_model()` Creates a mixed neural network based on some parameters. The architecture is intentionally a little arbitrary in terms of the depth of the dense part of the network, the depth of the convolutional part of the network, and the convolution kernel size. Returns a compiled Keras model.\n",
    "  * `LossHistory()` Only needed here because it has to be passed to `model.fit()`.\n",
    "  * `train()` We will walk through this routine below.\n",
    "\n",
    "Have a look inside for more details!"
   ]
  },
  {
   "cell_type": "code",
   "execution_count": null,
   "id": "dceb9cda-ecd3-4ba8-919b-e187dc449839",
   "metadata": {},
   "outputs": [],
   "source": [
    "%run notebooks/surface_currents_model.ipynb"
   ]
  },
  {
   "cell_type": "markdown",
   "id": "e68406a0-1416-4176-9351-db955bffa0c1",
   "metadata": {},
   "source": [
    "Now the fun part: we define the `train` function to deal with high-level aspects of training the model, which means this is a good place to use xbatcher. Let's walk through it...\n",
    "\n",
    "The arguments to `train` are\n",
    "  * `ds: xr.DataSet` The dataset you want to work with.\n",
    "  * `sc: Scenario` The scenario you want to work with.\n",
    "  * `conv_dims: List[int]` This is the shape of the stencil that will be passed to the first convolutional layer. We are only interested in 2D convolutions here, so it will need to be a list of two integers. Note that this is distinct from the convolutional kernel.\n",
    "  * `nfilters: int` How many filters do we want to map the first convolution layer to?\n",
    "  * `conv_kernels: List[int]` Each entry denotes the convolution kernel of a new convolution layer. `train` works best for odd-numbered convolution kernels.\n",
    "  * `dense_layers: int` The number of dense layers in the model.\n",
    "  \n",
    "For this example, we only use one convolution layer, which makes some things simpler. Feel free to experiment with these parameters to use different data sets and create new CNN models."
   ]
  },
  {
   "cell_type": "code",
   "execution_count": null,
   "id": "f7c3f985-8d31-4a99-9f65-1a37629ed606",
   "metadata": {},
   "outputs": [],
   "source": [
    "sc = sc5\n",
    "conv_dims = [5,5]\n",
    "nfilters = 80\n",
    "conv_kernels = [5]\n",
    "dense_layers = 3"
   ]
  },
  {
   "cell_type": "markdown",
   "id": "36986b46-2a45-48b8-aa38-3e8062d7c502",
   "metadata": {},
   "source": [
    "We'll need some info about how to rectify the output of the convolution layers with raw input from other variables (see the surface_currents_model.ipynb notebook for more info). Based on the convolution kernel, we know how the output of a convolution layer will be shaped compared to the input: a halo of a certain size will be removed from the edges. For odd convolution kernels, the halo thickness is always $\\frac{n - 1}{2}$ where $n$ is the kernel."
   ]
  },
  {
   "cell_type": "code",
   "execution_count": null,
   "id": "bd049f5b-2734-4f96-b595-20022ab58773",
   "metadata": {},
   "outputs": [],
   "source": [
    "halo_size = int((np.sum(conv_kernels) - len(conv_kernels))/2)"
   ]
  },
  {
   "cell_type": "code",
   "execution_count": null,
   "id": "2651494b-8cc5-4777-9bde-bdd030b86c63",
   "metadata": {},
   "outputs": [],
   "source": [
    "halo_size"
   ]
  },
  {
   "cell_type": "markdown",
   "id": "4716830e-d5a5-41ff-8fa9-ad862086bd40",
   "metadata": {
    "tags": []
   },
   "source": [
    "## Training a Model with xbatcher"
   ]
  },
  {
   "cell_type": "markdown",
   "id": "fb3166b5-5e33-454a-8f2d-0647398a0a64",
   "metadata": {},
   "source": [
    "Since we are trying to learn from a single 2D snapshot, it makes sense to iterate in both latitude and longitude. What we want are individual samples of the size given by `conv_dims`, but batched in a way that we can pass the correct number of samples to the model as a single tensor. So, `input_dims` will contain entries for both `nlon` and `nlat`. To take full advantage of the available data, we can add an overlap to make sure halo points are fully included in the neighboring samples."
   ]
  },
  {
   "cell_type": "markdown",
   "id": "e1deeb41-1256-4f60-a5e2-26ba6129c59c",
   "metadata": {},
   "source": [
    "NOTE: xbatcher currently runs slowly with `concat_input_dims=True`, and running without it will result in batches of size one. Therefore, we use an implemenatation of xarray rolling to mimic what xbatcher does. This is not good strategy when using large datasets, but for this example, the differences are minimal. We anticipate that fixed-size batches and some optimizations will be implemented in xbatcher in the future."
   ]
  },
  {
   "cell_type": "code",
   "execution_count": null,
   "id": "ee80ff17-fb53-428c-80a4-002565ee9b5c",
   "metadata": {},
   "outputs": [],
   "source": [
    "nlons, nlats = conv_dims"
   ]
  },
  {
   "cell_type": "code",
   "execution_count": null,
   "id": "aa3f0f36-c35a-4c43-aaed-2f9465f494a2",
   "metadata": {},
   "outputs": [],
   "source": [
    "# bgen = xb.BatchGenerator(\n",
    "#     ds_training,\n",
    "#     {'nlon':nlons,       'nlat':nlats},\n",
    "#     {'nlon':2*halo_size, 'nlat':2*halo_size}\n",
    "# )"
   ]
  },
  {
   "cell_type": "code",
   "execution_count": null,
   "id": "79ce5189-eaa6-45bd-b9c1-098c5f131453",
   "metadata": {},
   "outputs": [],
   "source": [
    "latlen = len(ds_training['nlat'])\n",
    "lonlen = len(ds_training['nlon'])\n",
    "nlon_range = range(nlons,lonlen,nlons - 2*halo_size)\n",
    "nlat_range = range(nlats,latlen,nlats - 2*halo_size)\n",
    "\n",
    "batch = (\n",
    "    ds_training\n",
    "    .rolling({\"nlat\": nlats, \"nlon\": nlons})\n",
    "    .construct({\"nlat\": \"nlat_input\", \"nlon\": \"nlon_input\"})[{'nlat':nlat_range, 'nlon':nlon_range}]\n",
    "    .stack({\"input_batch\": (\"nlat\", \"nlon\")}, create_index=False)\n",
    "    .rename_dims({'nlat_input':'nlat', 'nlon_input':'nlon'})\n",
    "    .transpose('input_batch',...)\n",
    "    # .chunk({'input_batch':32, 'nlat':nlats, 'nlon':nlons})\n",
    "    .dropna('input_batch')\n",
    ")"
   ]
  },
  {
   "cell_type": "code",
   "execution_count": null,
   "id": "66f1a698-b0c7-4a21-8aea-d2c57657877e",
   "metadata": {},
   "outputs": [],
   "source": [
    "rnds = list(range(len(batch['input_batch'])))\n",
    "np.random.shuffle(rnds)"
   ]
  },
  {
   "cell_type": "code",
   "execution_count": null,
   "id": "ba4fd97c-db67-4f9d-bcb1-e69346842eda",
   "metadata": {},
   "outputs": [],
   "source": [
    "batch = batch[{'input_batch':(rnds)}]\n",
    "batch"
   ]
  },
  {
   "cell_type": "code",
   "execution_count": null,
   "id": "a2944159-14af-469b-a4a5-10ac404d32ab",
   "metadata": {},
   "outputs": [],
   "source": [
    "# use with rolling\n",
    "def batch_generator(batch_set, batch_size):\n",
    "    n = 0\n",
    "    while n < len(batch_set['input_batch']) - batch_size:\n",
    "        yield batch_set.isel({'input_batch':range(n,(n+batch_size))})\n",
    "        n += batch_size\n",
    "        \n",
    "# # use with xbatcher\n",
    "# def batch_generator(bgen, batch_size):\n",
    "#     b = (batch for batch in bgen)\n",
    "#     n = 0\n",
    "#     while n < 400:\n",
    "#         batch_stack = [ next(b) for i in range(batch_size) ]\n",
    "#         yield xr.concat(batch_stack, 'sample')\n",
    "#         n += 1"
   ]
  },
  {
   "cell_type": "code",
   "execution_count": null,
   "id": "fef8a55f-8c7e-42ae-a846-5e0a8d8bc5ec",
   "metadata": {},
   "outputs": [],
   "source": [
    "bgen = batch_generator(batch, 4096)\n",
    "# bgen = batch_generator(bgen, 32)"
   ]
  },
  {
   "cell_type": "markdown",
   "id": "50d6358d-90d1-43d6-941a-bf35ebb7b34b",
   "metadata": {},
   "source": [
    "We need a subsetting stencil (`sub`) to compensate for the fact that a halo is removed by each convolution layer. This means that the input_var variables will be the wrong size at the concat layer unless we strip the halo from them."
   ]
  },
  {
   "cell_type": "code",
   "execution_count": null,
   "id": "7fcfdcf2-7a88-4951-867e-2c37e8269f8b",
   "metadata": {},
   "outputs": [],
   "source": [
    "sub = {'nlon':range(halo_size,nlons-halo_size),\n",
    "       'nlat':range(halo_size,nlats-halo_size)}"
   ]
  },
  {
   "cell_type": "markdown",
   "id": "c0bd2a8e-cf75-469b-be79-a53576ffc61b",
   "metadata": {},
   "source": [
    "Here, we generate our model and our history callback."
   ]
  },
  {
   "cell_type": "code",
   "execution_count": null,
   "id": "b152667f-385c-4258-939f-e7c51544ce56",
   "metadata": {},
   "outputs": [],
   "source": [
    "model = get_model(halo_size, ds_training, sc, conv_dims, nfilters, conv_kernels, dense_layers)\n",
    "history = LossHistory()"
   ]
  },
  {
   "cell_type": "markdown",
   "id": "7597dc73-a90e-482d-8580-63a761594c82",
   "metadata": {},
   "source": [
    "And now, we can construct our training loop. Most use cases of the `xb.BatchGenerator` will take the form of a for-loop with the construct `for batch in bgen`.\n",
    "\n",
    "Once we have a batch, we still have some things to do before we can pass the data to the model.\n",
    "\n",
    "So when we look at the contents of each batch, we see"
   ]
  },
  {
   "cell_type": "code",
   "execution_count": null,
   "id": "e69733cc-7a8f-41b3-9629-1fde72921b51",
   "metadata": {},
   "outputs": [],
   "source": [
    "# a = []\n",
    "# for batch in bgen:\n",
    "#     a = batch\n",
    "#     break\n",
    "# a"
   ]
  },
  {
   "cell_type": "markdown",
   "id": "b146f2c9-a123-4eec-873d-7f850fd13189",
   "metadata": {},
   "source": [
    "...but our model expects tensors where the different variables are stacked in a new dimension we will call `var`. "
   ]
  },
  {
   "cell_type": "markdown",
   "id": "55c07ce1-66d1-413e-974e-fbc065950fb0",
   "metadata": {},
   "source": [
    "Looking at `model.fit()`, we have two separate inputs because of the distinction between convolved inputs and raw inputs. Therefore, the model expects these inputs to be given as a list of the two. The training target is relatively straightforward. On the next line, we have a couple of parameters we can experiment with. The important thing to note is the `batch_size` parameter; you may need to check that the sample dimension is compatible with the dimensions that `xb.BatchGenerator` returned. And finally, we pass our history class as a callback so we can see how the model training is progressing."
   ]
  },
  {
   "cell_type": "code",
   "execution_count": null,
   "id": "d07cdac5-1d39-4ee7-b6f3-8bcd1a07d713",
   "metadata": {},
   "outputs": [],
   "source": [
    "for batch in bgen:\n",
    "    \n",
    "    batch_conv   = [batch[x] for x in sc.conv_var]\n",
    "    batch_input  = [batch[x][sub] for x in sc.input_var]\n",
    "    batch_target = [batch[x][sub] for x in sc.target]\n",
    "    batch_conv   = xr.merge(batch_conv).to_array('var').transpose(...,'var')\n",
    "    batch_input  = xr.merge(batch_input).to_array('var').transpose(...,'var')\n",
    "    batch_target = xr.merge(batch_target).to_array('var').transpose(...,'var')\n",
    "\n",
    "    #clear_output(wait=True)\n",
    "    model.fit([batch_conv, batch_input],\n",
    "              batch_target,\n",
    "              batch_size=32, verbose=0,# epochs=4,\n",
    "              callbacks=[history])"
   ]
  },
  {
   "cell_type": "markdown",
   "id": "a22219b0-65fb-427a-947b-b3ce050ca7fd",
   "metadata": {},
   "source": [
    "And now that we have our model trained, we can save it for future use. Note that once this model is saved, we don't need to rerun much from above to continue with testing or prediction."
   ]
  },
  {
   "cell_type": "code",
   "execution_count": null,
   "id": "529ec848-1f94-4551-96fc-f4ef5447a0a6",
   "metadata": {},
   "outputs": [],
   "source": [
    "model.save('models/'+ sc.name)\n",
    "np.savez('models/history_'+sc.name, losses=history.mae, mse=history.mse, accuracy=history.accuracy)"
   ]
  },
  {
   "cell_type": "markdown",
   "id": "a999873e-8009-4568-b07b-c78f588d1b08",
   "metadata": {},
   "source": [
    "## Training Function"
   ]
  },
  {
   "cell_type": "code",
   "execution_count": null,
   "id": "b364c5a4-1931-4a93-b315-2fe9d85f32e3",
   "metadata": {},
   "outputs": [],
   "source": [
    "#train(ds_training, sc5, conv_dims, conv_kernels)"
   ]
  },
  {
   "cell_type": "markdown",
   "id": "af828260-9b72-4204-b572-78a5dc313e64",
   "metadata": {},
   "source": [
    "---"
   ]
  },
  {
   "cell_type": "markdown",
   "id": "61008150-4074-44d6-a331-70bb17f87f55",
   "metadata": {
    "tags": []
   },
   "source": [
    "## Testing the Model"
   ]
  },
  {
   "cell_type": "code",
   "execution_count": null,
   "id": "7b3d0ced-35f5-4a66-af18-7b6e2aab188f",
   "metadata": {},
   "outputs": [],
   "source": [
    "ds_test = load_test_data(sc5)\n",
    "ds_test = just_the_data(ds_test)\n",
    "ds_test = select_from(ds_test)\n",
    "ds_test"
   ]
  },
  {
   "cell_type": "code",
   "execution_count": null,
   "id": "e395aa55-21f8-48b3-962b-223bcd5b46c6",
   "metadata": {},
   "outputs": [],
   "source": [
    "latlen = len(ds_test['nlat'])\n",
    "lonlen = len(ds_test['nlon'])\n",
    "nlon_range = range(nlons,lonlen,nlons - 2*halo_size)\n",
    "nlat_range = range(nlats,latlen,nlats - 2*halo_size)\n",
    "\n",
    "batch_test = (\n",
    "    ds_test\n",
    "    .rolling({\"nlat\": nlats, \"nlon\": nlons})\n",
    "    .construct({\"nlat\": \"nlat_input\", \"nlon\": \"nlon_input\"})[{'nlat':nlat_range, 'nlon':nlon_range}]\n",
    "    .stack({\"input_batch\": (\"nlat\", \"nlon\")}, create_index=False)\n",
    "    .rename_dims({'nlat_input':'nlat', 'nlon_input':'nlon'})\n",
    "    .transpose('input_batch',...)\n",
    "    # .chunk({'input_batch':32, 'nlat':nlats, 'nlon':nlons})\n",
    "    .dropna('input_batch')\n",
    ")"
   ]
  },
  {
   "cell_type": "markdown",
   "id": "fb00a3b0-ab5a-4ff6-8617-7aa9d184a080",
   "metadata": {},
   "source": [
    "Let's load the trained model from before:"
   ]
  },
  {
   "cell_type": "code",
   "execution_count": null,
   "id": "50bd5d2f-d941-4770-a79c-4730f49263e1",
   "metadata": {},
   "outputs": [],
   "source": [
    "model = tf.keras.models.load_model('models/'+ sc.name, custom_objects={'Grid_MAE':Grid_MAE})"
   ]
  },
  {
   "cell_type": "code",
   "execution_count": null,
   "id": "81b49441-14c3-4299-b64a-84718e0c4a8c",
   "metadata": {},
   "outputs": [],
   "source": [
    "test_conv   = [batch_test[x]      for x in sc.conv_var]\n",
    "test_input  = [batch_test[x][sub] for x in sc.input_var]\n",
    "test_target = [batch_test[x][sub] for x in sc.target]\n",
    "test_conv   = xr.merge(test_conv  ).to_array('var').transpose(...,'var')\n",
    "test_input  = xr.merge(test_input ).to_array('var').transpose(...,'var')\n",
    "test_target = xr.merge(test_target).to_array('var').transpose(...,'var')"
   ]
  },
  {
   "cell_type": "code",
   "execution_count": null,
   "id": "9cf4c7ca-ee04-47f4-b078-3b8bb6f15222",
   "metadata": {},
   "outputs": [],
   "source": [
    "model.evaluate([test_conv, test_input], test_target)"
   ]
  },
  {
   "cell_type": "markdown",
   "id": "bc340ef2-2770-4860-9dbe-a7a88c6cf666",
   "metadata": {},
   "source": [
    "## Testing Function"
   ]
  },
  {
   "cell_type": "code",
   "execution_count": null,
   "id": "5f01f460-f5a3-4634-b9e7-fe276d178b6c",
   "metadata": {},
   "outputs": [],
   "source": [
    "#test(ds_test, sc5, conv_dims, conv_kernels)"
   ]
  },
  {
   "cell_type": "markdown",
   "id": "64e1c23f-a215-4356-8700-b20175983c5a",
   "metadata": {},
   "source": [
    "---"
   ]
  },
  {
   "cell_type": "markdown",
   "id": "27e5dbcd-3447-47dc-aefa-9acba7031098",
   "metadata": {
    "tags": []
   },
   "source": [
    "## Making Predictions"
   ]
  },
  {
   "cell_type": "code",
   "execution_count": null,
   "id": "2121aa99-f0a0-4303-98c3-ef725ff43065",
   "metadata": {},
   "outputs": [],
   "source": [
    "ds_predict = load_predict_data(sc5)\n",
    "ds_predict = just_the_data(ds_predict)\n",
    "ds_predict = select_from(ds_predict)\n",
    "ds_predict"
   ]
  },
  {
   "cell_type": "code",
   "execution_count": null,
   "id": "82873940-6c94-406a-8b77-7d182ee63fce",
   "metadata": {},
   "outputs": [],
   "source": [
    "latlen = len(ds_predict['nlat'])\n",
    "lonlen = len(ds_predict['nlon'])\n",
    "nlon_range = range(nlons,lonlen,nlons - 2*halo_size)\n",
    "nlat_range = range(nlats,latlen,nlats - 2*halo_size)\n",
    "\n",
    "batch_predict = (\n",
    "    ds_predict\n",
    "    .rolling({\"nlat\": nlats, \"nlon\": nlons})\n",
    "    .construct({\"nlat\": \"nlat_input\", \"nlon\": \"nlon_input\"})[{'nlat':nlat_range, 'nlon':nlon_range}]\n",
    "    .stack({\"input_batch\": (\"nlat\", \"nlon\")}, create_index=False)\n",
    "    .rename_dims({'nlat_input':'nlat', 'nlon_input':'nlon'})\n",
    "    .transpose('input_batch',...)\n",
    "    # .chunk({'input_batch':32, 'nlat':nlats, 'nlon':nlons})\n",
    "    .dropna('input_batch')\n",
    ")"
   ]
  },
  {
   "cell_type": "code",
   "execution_count": null,
   "id": "062e7321-9b61-4c41-9d4c-f722e4bfb960",
   "metadata": {},
   "outputs": [],
   "source": [
    "model = tf.keras.models.load_model('models/'+ sc.name, custom_objects={'Grid_MAE':Grid_MAE})"
   ]
  },
  {
   "cell_type": "code",
   "execution_count": null,
   "id": "9aad0238-dee1-4a62-84f8-350da00232e0",
   "metadata": {},
   "outputs": [],
   "source": [
    "predict_conv  = [batch_test[x]      for x in sc.conv_var]\n",
    "predict_input = [batch_test[x][sub] for x in sc.input_var]\n",
    "predict_conv  = xr.merge(predict_conv ).to_array('var').transpose(...,'var')\n",
    "predict_input = xr.merge(predict_input).to_array('var').transpose(...,'var')"
   ]
  },
  {
   "cell_type": "code",
   "execution_count": null,
   "id": "7b0c4b9c-3cc8-46da-9bec-2e50d1777407",
   "metadata": {},
   "outputs": [],
   "source": [
    "predict_target = model.predict([predict_conv, predict_input])"
   ]
  },
  {
   "cell_type": "markdown",
   "id": "1e889207-caa7-48ac-801e-639dd34d5793",
   "metadata": {},
   "source": [
    "## Prediction Function"
   ]
  },
  {
   "cell_type": "code",
   "execution_count": null,
   "id": "16edc192-740c-492d-8b7e-5184451fa298",
   "metadata": {},
   "outputs": [],
   "source": [
    "#predict_target = predict(ds_predict, sc5, conv_dims, conv_kernels)"
   ]
  },
  {
   "cell_type": "markdown",
   "id": "33b09d6e-cfd5-4eac-ba4d-b9a9ffba8553",
   "metadata": {},
   "source": [
    "---"
   ]
  },
  {
   "cell_type": "markdown",
   "id": "f119d206-263b-4fc0-b7ef-ab9162032154",
   "metadata": {
    "tags": []
   },
   "source": [
    "## Prediction Results"
   ]
  },
  {
   "cell_type": "markdown",
   "id": "c0836bf2-4510-4a6d-8b9e-d82c4260e5fa",
   "metadata": {},
   "source": [
    "Now, let's take a look at the predicted surface currents and see how the model did. Notice that the predicted data can be retrieved fairly easily from our default setup. We only have to reshape them, with respect to the original dimensions and a halo that will be stripped off. This is because we chose to make the convolution kernel equal to the dimensions of the samples, which means the model will give results at individual points. \n",
    "\n",
    "However, the convolution kernal can be different, it's just that we will then have to use a more complex process to restructure our grid.\n",
    "\n",
    "Note also that if there were nans removed, we would have to keep track of how to map the unstructured model inputs back to the original grid and insert nans in the correct positions."
   ]
  },
  {
   "cell_type": "code",
   "execution_count": null,
   "id": "7dd357e7-439c-4765-a63c-281f8e0398e3",
   "metadata": {
    "tags": []
   },
   "outputs": [],
   "source": [
    "U = ds_predict['U']\n",
    "V = ds_predict['V']"
   ]
  },
  {
   "cell_type": "code",
   "execution_count": null,
   "id": "2d5fe083-a070-49ef-ac14-e1655dab617a",
   "metadata": {},
   "outputs": [],
   "source": [
    "U_pred = predict_target[:,0,0,0].reshape(545, 345)\n",
    "V_pred = predict_target[:,0,0,1].reshape(545, 345)"
   ]
  },
  {
   "cell_type": "code",
   "execution_count": null,
   "id": "1057c72f-7e9c-4cd9-bd97-6fd0183e9324",
   "metadata": {},
   "outputs": [],
   "source": [
    "plt.figure(figsize=(10, 6))\n",
    "plt.pcolormesh(U, cmap='RdBu_r')\n",
    "plt.clim([-100, 100])\n",
    "plt.colorbar()"
   ]
  },
  {
   "cell_type": "code",
   "execution_count": null,
   "id": "73dde0b7-b414-4635-819c-3344f9abc924",
   "metadata": {},
   "outputs": [],
   "source": [
    "plt.figure(figsize=(10, 6))\n",
    "plt.pcolormesh(U_pred, cmap='RdBu_r')\n",
    "plt.clim([-100, 100])\n",
    "plt.colorbar()"
   ]
  },
  {
   "cell_type": "markdown",
   "id": "ffee3bbb-44bf-448d-a2d6-362534b06b98",
   "metadata": {},
   "source": [
    "We can see that they look very similar, but to get a better idea of what our errors look like, we can subtract them."
   ]
  },
  {
   "cell_type": "code",
   "execution_count": null,
   "id": "e8a723fe-f2d3-4fd2-a6a6-5c953037863b",
   "metadata": {
    "tags": []
   },
   "outputs": [],
   "source": [
    "plt.figure(figsize=(10, 6))\n",
    "plt.pcolormesh(U_pred - U[3:-2,3:-2], cmap='RdBu_r') # double-check U indexing\n",
    "plt.clim([-100, 100])\n",
    "plt.colorbar()"
   ]
  },
  {
   "cell_type": "code",
   "execution_count": null,
   "id": "06a0d96f-a80b-4af7-8352-4388b7c8a1d5",
   "metadata": {},
   "outputs": [],
   "source": []
  }
 ],
 "metadata": {
  "kernelspec": {
   "display_name": "Python 3 (ipykernel)",
   "language": "python",
   "name": "python3"
  },
  "language_info": {
   "codemirror_mode": {
    "name": "ipython",
    "version": 3
   },
   "file_extension": ".py",
   "mimetype": "text/x-python",
   "name": "python",
   "nbconvert_exporter": "python",
   "pygments_lexer": "ipython3",
   "version": "3.10.9"
  }
 },
 "nbformat": 4,
 "nbformat_minor": 5
}
