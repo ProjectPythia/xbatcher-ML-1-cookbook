{
 "cells": [
  {
   "cell_type": "markdown",
   "id": "58be5b62-03cb-4a16-8806-8d6ea58b4d42",
   "metadata": {},
   "source": [
    "## Data and Preprocessing\n",
    "\n",
    "For our dataset, we will be using ocean data from a high-resolution CESM POP model. \n",
    "\n",
    "However, let's add some variables that could be useful later. It's possible that grid information like position and distance to neighboring points are relevant. In particular, latitude might has some influence due to the dependence of the Coriolis parameter $f_0$ on latitude. Grid spacing may hold important information as well, in terms of representation of subgrid processes.\n",
    "\n",
    "Here, we are adding three euclidean position variables ($X$, $Y$, and $Z$), and two Euclidean distance variables $dx$ and $dy$ that we can use later in our scenarios if we think they'll be useful."
   ]
  },
  {
   "cell_type": "code",
   "execution_count": 7,
   "id": "4e875cd7-9f2e-4fca-a56a-c88c76ba9ffd",
   "metadata": {},
   "outputs": [],
   "source": [
    "def add_grid(ds):\n",
    "    \n",
    "    X = lambda lat: np.sin(np.radians(lat))\n",
    "    Y = lambda lat, lon:  np.cos(np.radians(lat)) * np.sin(np.radians(lon))\n",
    "    Z = lambda lat, lon: -np.cos(np.radians(lat)) * np.cos(np.radians(lon))\n",
    "    delta = lambda dx, dxMean, dxStd: (dx - dxMean)/dxStd\n",
    "    \n",
    "    lats = ds.YU.data\n",
    "    lons = ds.XU.data\n",
    "    DX = ds.DXT.data\n",
    "    DY = ds.DYT.data\n",
    "    \n",
    "    x = X(lats)\n",
    "    y = Y(lats, lons)\n",
    "    z = Z(lats, lons)\n",
    "    dX = delta(DX, np.mean(DX), np.std(DX))\n",
    "    dY = delta(DY, np.mean(DY), np.std(DY))\n",
    "\n",
    "    ds['X']  = ds.XU.dims, x\n",
    "    ds['Y']  = ds.XU.dims, y\n",
    "    ds['Z']  = ds.XU.dims, z\n",
    "    ds['dx'] = ds.XU.dims, dX\n",
    "    ds['dy'] = ds.XU.dims, dY\n",
    "    \n",
    "    return(ds)    "
   ]
  },
  {
   "cell_type": "markdown",
   "id": "ca9e6394-f0e8-4bd8-87d4-b6e7539782f7",
   "metadata": {},
   "source": [
    "The `prepare_data` function basically downloads the ocean data we're interested in, simplifies the names of some variables, adds new variables for the grid as well as an ad-hoc mask (it works for the cases I've tested, but no guarantees that it will cover all cases), and finally, apportions the snapshots we're interested in into new (smaller) zarr stores for later use."
   ]
  },
  {
   "cell_type": "code",
   "execution_count": 7,
   "id": "12cbc2e1-2e65-4725-b91a-6677907584a7",
   "metadata": {
    "tags": []
   },
   "outputs": [],
   "source": [
    "def prepare_data(sc, training_time, test_time, predict_time, mask_time=11):\n",
    "    cat = open_catalog(\"https://raw.githubusercontent.com/pangeo-data/pangeo-datastore/master/intake-catalogs/ocean/CESM_POP.yaml\")\n",
    "    ds  = cat[\"CESM_POP_hires_control\"].to_dask()\n",
    "    ds = ds.rename({'U1_1':'U', 'V1_1':'V', 'TAUX_2':'TAUX', 'TAUY_2':'TAUY', 'SSH_2':'SSH', 'ULONG':'XU', 'ULAT':'YU'})\n",
    "    ds = add_grid(ds)\n",
    "    \n",
    "    def get_mask_from(ds, x):\n",
    "        return ~np.isnan(ds[x])\n",
    "\n",
    "    mask1 = get_mask_from(ds, 'SSH')[{'time':mask_time}]\n",
    "    mask2 = get_mask_from(ds, 'TAUY')[{'time':mask_time}]\n",
    "    mask3 = get_mask_from(ds, 'U')[{'time':mask_time}]\n",
    "    mask = mask1 & mask2 & mask3\n",
    "    mask = mask.compute()\n",
    "    \n",
    "    varList = sc.conv_var + sc.input_var + sc.target\n",
    "    ds = ds[varList]\n",
    "    ds['mask'] = mask\n",
    "    \n",
    "    ds_training = ds.isel(time = training_time)\n",
    "    ds_training.to_zarr('scenarios/', group = 'training_' + sc.name + '.zarr', mode = 'w')\n",
    "    del ds_training\n",
    "    \n",
    "    ds_test     = ds.isel(time =     test_time)\n",
    "    ds_test.to_zarr('scenarios/',     group = 'test_'     + sc.name + '.zarr', mode = 'w')\n",
    "    del ds_test\n",
    "    \n",
    "    ds_predict  = ds.isel(time =  predict_time)\n",
    "    ds_predict.to_zarr('scenarios/',  group = 'predict_'  + sc.name + '.zarr', mode = 'w')\n",
    "    del ds_predict\n",
    "    \n",
    "    pass"
   ]
  },
  {
   "cell_type": "code",
   "execution_count": 10,
   "id": "a7d76e1a-91b1-413f-bb52-b1bcf756041a",
   "metadata": {},
   "outputs": [],
   "source": [
    "def loader(sc, name):\n",
    "    ds = xr.open_zarr('scenarios/', group = name + '_' + sc.name + '.zarr')\n",
    "    return ds\n",
    "\n",
    "def load_training_data(sc):\n",
    "    return loader(sc, 'training')\n",
    "\n",
    "def load_test_data(sc):\n",
    "    return loader(sc, 'test')\n",
    "\n",
    "def load_predict_data(sc):\n",
    "    return loader(sc, 'predict')"
   ]
  },
  {
   "cell_type": "code",
   "execution_count": 16,
   "id": "0c175cea-575c-44f7-adee-b9186289e9df",
   "metadata": {},
   "outputs": [],
   "source": [
    "def just_the_data(ds):\n",
    "    ds = ds.drop_vars(list(ds.coords.keys()))\n",
    "\n",
    "    for attr in list(ds.attrs.keys()):\n",
    "        del ds.attrs[attr]\n",
    "\n",
    "    for var in list(ds.variables.keys()):\n",
    "        for attr in list(ds[var].attrs.keys()):\n",
    "            del ds[var].attrs[attr]\n",
    "    return ds"
   ]
  },
  {
   "cell_type": "code",
   "execution_count": 17,
   "id": "8096e42d-51c2-44d6-bf38-7b8360616096",
   "metadata": {},
   "outputs": [],
   "source": [
    "def select_from(ds):\n",
    "    return ds.isel(nlon=list(range(1850,2200)), nlat=list(range(500,1050)))"
   ]
  }
 ],
 "metadata": {
  "kernelspec": {
   "display_name": "Python 3 (ipykernel)",
   "language": "python",
   "name": "python3"
  },
  "language_info": {
   "codemirror_mode": {
    "name": "ipython",
    "version": 3
   },
   "file_extension": ".py",
   "mimetype": "text/x-python",
   "name": "python",
   "nbconvert_exporter": "python",
   "pygments_lexer": "ipython3",
   "version": "3.10.9"
  }
 },
 "nbformat": 4,
 "nbformat_minor": 5
}
